{
  "cells": [
    {
      "cell_type": "markdown",
      "source": [
        "### Building the Dataset"
      ],
      "metadata": {
        "id": "D3QCAS_iqavg"
      },
      "id": "D3QCAS_iqavg"
    },
    {
      "cell_type": "code",
      "source": [
        "words = open('/names.txt').read().splitlines()"
      ],
      "metadata": {
        "id": "2t-vKHqGcX38"
      },
      "id": "2t-vKHqGcX38",
      "execution_count": 1,
      "outputs": []
    },
    {
      "cell_type": "code",
      "source": [
        "print(words[:10])"
      ],
      "metadata": {
        "colab": {
          "base_uri": "https://localhost:8080/"
        },
        "id": "NX8WgDWok5iq",
        "outputId": "d4794fc1-ca8c-4843-8591-9cfcf2087bd1"
      },
      "id": "NX8WgDWok5iq",
      "execution_count": 3,
      "outputs": [
        {
          "output_type": "stream",
          "name": "stdout",
          "text": [
            "['emma', 'olivia', 'ava', 'isabella', 'sophia', 'charlotte', 'mia', 'amelia', 'harper', 'evelyn']\n"
          ]
        }
      ]
    },
    {
      "cell_type": "code",
      "source": [
        "vocab = ['.'] + sorted(set([letter for word in words for letter in word]))\n",
        "stoi = {s:i for i, s in enumerate(vocab)}\n",
        "itos = {i:s for i, s in enumerate(vocab)}\n",
        "\n",
        "print(vocab)\n",
        "print()\n",
        "print(stoi)\n",
        "print()\n",
        "print(itos)"
      ],
      "metadata": {
        "colab": {
          "base_uri": "https://localhost:8080/"
        },
        "id": "7p0Q-vgmpL0x",
        "outputId": "aafeacab-4e3a-4a7d-d98d-22ffaa619046"
      },
      "id": "7p0Q-vgmpL0x",
      "execution_count": 4,
      "outputs": [
        {
          "output_type": "stream",
          "name": "stdout",
          "text": [
            "['.', 'a', 'b', 'c', 'd', 'e', 'f', 'g', 'h', 'i', 'j', 'k', 'l', 'm', 'n', 'o', 'p', 'q', 'r', 's', 't', 'u', 'v', 'w', 'x', 'y', 'z']\n",
            "\n",
            "{'.': 0, 'a': 1, 'b': 2, 'c': 3, 'd': 4, 'e': 5, 'f': 6, 'g': 7, 'h': 8, 'i': 9, 'j': 10, 'k': 11, 'l': 12, 'm': 13, 'n': 14, 'o': 15, 'p': 16, 'q': 17, 'r': 18, 's': 19, 't': 20, 'u': 21, 'v': 22, 'w': 23, 'x': 24, 'y': 25, 'z': 26}\n",
            "\n",
            "{0: '.', 1: 'a', 2: 'b', 3: 'c', 4: 'd', 5: 'e', 6: 'f', 7: 'g', 8: 'h', 9: 'i', 10: 'j', 11: 'k', 12: 'l', 13: 'm', 14: 'n', 15: 'o', 16: 'p', 17: 'q', 18: 'r', 19: 's', 20: 't', 21: 'u', 22: 'v', 23: 'w', 24: 'x', 25: 'y', 26: 'z'}\n"
          ]
        }
      ]
    },
    {
      "cell_type": "code",
      "source": [
        "xs, ys = [], []\n",
        "context_size = 3\n",
        "\n",
        "for word in words:\n",
        "  prefix = ''.join(context_size * ['.'])\n",
        "  suffix = '.'\n",
        "  word = prefix + word + suffix\n",
        "\n",
        "  loop_freq = len(word) - context_size\n",
        "\n",
        "  for i in range(loop_freq):\n",
        "    context = word[i:i+context_size]\n",
        "    target = word[i+context_size]\n",
        "\n",
        "    xs.append([stoi[chr] for chr in context])\n",
        "    ys.append(stoi[target])\n",
        "\n",
        "import torch\n",
        "xs = torch.tensor(xs)\n",
        "ys = torch.tensor(ys)"
      ],
      "metadata": {
        "id": "VxFg6e19lHSB"
      },
      "id": "VxFg6e19lHSB",
      "execution_count": 9,
      "outputs": []
    },
    {
      "cell_type": "code",
      "source": [
        "print(xs)\n",
        "print(ys)"
      ],
      "metadata": {
        "colab": {
          "base_uri": "https://localhost:8080/"
        },
        "id": "-oNuRlLzmi8M",
        "outputId": "e6200066-40f3-47e3-d4cb-e73720bf2d66"
      },
      "id": "-oNuRlLzmi8M",
      "execution_count": 10,
      "outputs": [
        {
          "output_type": "stream",
          "name": "stdout",
          "text": [
            "tensor([[ 0,  0,  0],\n",
            "        [ 0,  0,  5],\n",
            "        [ 0,  5, 13],\n",
            "        ...,\n",
            "        [26, 26, 25],\n",
            "        [26, 25, 26],\n",
            "        [25, 26, 24]])\n",
            "tensor([ 5, 13, 13,  ..., 26, 24,  0])\n"
          ]
        }
      ]
    },
    {
      "cell_type": "markdown",
      "source": [
        "### Building network: Forward pass and loss calculation"
      ],
      "metadata": {
        "id": "ww_S9Fl7rLk-"
      },
      "id": "ww_S9Fl7rLk-"
    },
    {
      "cell_type": "code",
      "source": [
        "import torch\n",
        "embedding_size = 2\n",
        "# Creating the embedding lookup table\n",
        "C = torch.randn((27, embedding_size))\n",
        "\n",
        "# Converting all inputs to embeddings\n",
        "x = C[xs]\n",
        "\n",
        "# Layer 1 - initializing weights\n",
        "W1 = torch.randn((context_size*embedding_size, 100))  # (inputs, outputs)\n",
        "b1 = torch.randn(100)\n",
        "\n",
        "# Layer 1 - computation\n",
        "z1 = x.view(-1, context_size*embedding_size) @ W1 + b1\n",
        "h1 = torch.tanh(z1)  # 100 dimensional output for each input example\n",
        "\n",
        "# Layer 2 - initializing weights\n",
        "W2 = torch.randn((100, 27))\n",
        "b2 = torch.randn(27)\n",
        "\n",
        "# Layer 2 - computation\n",
        "logits = h1 @ W2 + b2\n",
        "counts = torch.exp(logits)\n",
        "probs = counts / counts.sum(dim=1, keepdim=True)\n",
        "\n",
        "print(probs.shape)"
      ],
      "metadata": {
        "colab": {
          "base_uri": "https://localhost:8080/"
        },
        "id": "sy5sJ7SfrLBc",
        "outputId": "dbebc554-3b8b-49eb-8a42-c4c67dc8e866"
      },
      "id": "sy5sJ7SfrLBc",
      "execution_count": 11,
      "outputs": [
        {
          "output_type": "stream",
          "name": "stdout",
          "text": [
            "torch.Size([228146, 27])\n"
          ]
        }
      ]
    },
    {
      "cell_type": "code",
      "source": [
        "# implementing negative log likelihood\n",
        "loss = -probs[torch.arange(len(xs)), ys].log().mean().item()\n",
        "print(f'loss: {loss}')\n",
        "\n",
        "# torch way to calculate the loss:\n",
        "import torch.nn.functional as F\n",
        "loss_ = F.cross_entropy(logits, ys)\n",
        "print(f'loss: {loss_}')\n",
        "\n",
        "# Using F.cross_entropy: Advantages\n",
        "# 1. Things can be much more numerically well behaved\n",
        "# 2. Forward pass is much more efficient [unnecessary intermediary tensors are not created]\n",
        "# 3. Backward pass is much more efficient [function is implemented in such a way that we can calculate\n",
        "#    gradient with respect to input just in one step]"
      ],
      "metadata": {
        "colab": {
          "base_uri": "https://localhost:8080/"
        },
        "id": "r6BGH5XZnt2T",
        "outputId": "25b6e84e-2da0-498d-b5d5-422bb239b1bd"
      },
      "id": "r6BGH5XZnt2T",
      "execution_count": 12,
      "outputs": [
        {
          "output_type": "stream",
          "name": "stdout",
          "text": [
            "loss: 15.614145278930664\n",
            "loss: 15.614143371582031\n"
          ]
        }
      ]
    },
    {
      "cell_type": "markdown",
      "source": [
        "### Writing training loop"
      ],
      "metadata": {
        "id": "A3q6x9Zs7Ilv"
      },
      "id": "A3q6x9Zs7Ilv"
    },
    {
      "cell_type": "code",
      "source": [
        "# initializations:\n",
        "\n",
        "# Creating the embedding lookup table - initializing weights for layer 0\n",
        "embedding_size = 2\n",
        "C = torch.randn((27, embedding_size))\n",
        "\n",
        "# Layer 1 - initializing weights\n",
        "W1 = torch.randn((context_size*embedding_size, 100))  # (inputs, outputs)\n",
        "b1 = torch.randn(100)\n",
        "\n",
        "\n",
        "# Layer 2 - initializing weights\n",
        "W2 = torch.randn((100, 27))\n",
        "b2 = torch.randn(27)\n",
        "\n",
        "# creating param list\n",
        "params = [C, W1, b1, W2, b2]\n",
        "for p in params:\n",
        "  p.requires_grad = True"
      ],
      "metadata": {
        "id": "2eGK9cWCvdoK"
      },
      "id": "2eGK9cWCvdoK",
      "execution_count": 13,
      "outputs": []
    },
    {
      "cell_type": "code",
      "source": [
        "lr = 0.01\n",
        "# Loop\n",
        "for _ in range(12):\n",
        "\n",
        "  # minibatch construct\n",
        "  ix = torch.randint(0, xs.shape[0], (1024,))\n",
        "\n",
        "  # Embedding layer - Layer 0 computation\n",
        "  x = C[xs[ix]]\n",
        "  # Layer 1 - computation\n",
        "  z1 = x.view(-1, context_size*embedding_size) @ W1 + b1\n",
        "  h1 = torch.tanh(z1)  # 100 dimensional output for each input example\n",
        "  # Layer 2 - computation\n",
        "  logits = h1 @ W2 + b2\n",
        "  counts = torch.exp(logits)\n",
        "  probs = counts / counts.sum(dim=1, keepdim=True)\n",
        "  loss_ = F.cross_entropy(logits, ys[ix])\n",
        "  print(f'loss: {loss_.item()}')\n",
        "\n",
        "  # backpass\n",
        "  for p in params:\n",
        "    p.grad = None\n",
        "  loss_.backward()\n",
        "\n",
        "  # learning rate decay\n",
        "  lr = 0.05 if i < 100000 else 0.01\n",
        "\n",
        "  # update\n",
        "  n = 0\n",
        "  for p in params:\n",
        "    p.data += -lr * p.grad"
      ],
      "metadata": {
        "colab": {
          "base_uri": "https://localhost:8080/"
        },
        "id": "o7Sy8rc_2tUh",
        "outputId": "3f40df3e-bec6-4cd1-f9a9-c1782bc62051"
      },
      "id": "o7Sy8rc_2tUh",
      "execution_count": 14,
      "outputs": [
        {
          "output_type": "stream",
          "name": "stdout",
          "text": [
            "loss: 17.51024627685547\n",
            "loss: 17.019540786743164\n",
            "loss: 15.985477447509766\n",
            "loss: 15.121962547302246\n",
            "loss: 14.047195434570312\n",
            "loss: 13.58606243133545\n",
            "loss: 12.849099159240723\n",
            "loss: 12.818434715270996\n",
            "loss: 12.721114158630371\n",
            "loss: 12.162458419799805\n",
            "loss: 11.799033164978027\n",
            "loss: 11.75967025756836\n"
          ]
        }
      ]
    },
    {
      "cell_type": "markdown",
      "source": [
        "### Writing trainig loop again: but this time, training on training set, and testing on validation/test sets\n",
        "\n",
        "Also, obsever behaviour of loss with no. of iterations with a plot"
      ],
      "metadata": {
        "id": "pKUmZZfvGMIK"
      },
      "id": "pKUmZZfvGMIK"
    },
    {
      "cell_type": "code",
      "source": [
        "# initializations:\n",
        "\n",
        "# divide xs into train, test and val set\n",
        "n1 = int(0.8 * len(xs))\n",
        "n2 = int(0.9 * len(xs))\n",
        "\n",
        "x_train, y_train = xs[0:n1], ys[0:n1]\n",
        "x_dev, y_dev = xs[n1:n2], ys[n1: n2]\n",
        "x_test, y_test = xs[n2:], ys[n2:]\n",
        "\n",
        "# Creating the embedding lookup table - initializing weights for layer 0\n",
        "embedding_size = 2\n",
        "C = torch.randn((27, embedding_size))\n",
        "\n",
        "# Layer 1 - initializing weights\n",
        "W1 = torch.randn((context_size*embedding_size, 100))  # (inputs, outputs)\n",
        "b1 = torch.randn(100)\n",
        "\n",
        "\n",
        "# Layer 2 - initializing weights\n",
        "W2 = torch.randn((100, 27))\n",
        "b2 = torch.randn(27)\n",
        "\n",
        "# creating param list\n",
        "params = [C, W1, b1, W2, b2]\n",
        "for p in params:\n",
        "  p.requires_grad = True"
      ],
      "metadata": {
        "id": "Cl5UmC-o2wwS"
      },
      "id": "Cl5UmC-o2wwS",
      "execution_count": 41,
      "outputs": []
    },
    {
      "cell_type": "code",
      "source": [
        "lr = 0.01\n",
        "stepi = []\n",
        "lossi = []\n",
        "\n",
        "# Loop\n",
        "for _ in range(20000):\n",
        "\n",
        "  # minibatch construct\n",
        "  ix = torch.randint(0, xs.shape[0], (1024,))\n",
        "\n",
        "  # Embedding layer - Layer 0 computation\n",
        "  x = C[xs[ix]]\n",
        "  # Layer 1 - computation\n",
        "  z1 = x.view(-1, context_size*embedding_size) @ W1 + b1\n",
        "  h1 = torch.tanh(z1)  # 100 dimensional output for each input example\n",
        "  # Layer 2 - computation\n",
        "  logits = h1 @ W2 + b2\n",
        "  counts = torch.exp(logits)\n",
        "  probs = counts / counts.sum(dim=1, keepdim=True)\n",
        "  loss_ = F.cross_entropy(logits, ys[ix])\n",
        "\n",
        "  # backpass\n",
        "  for p in params:\n",
        "    p.grad = None\n",
        "  loss_.backward()\n",
        "\n",
        "  # # learning rate decay\n",
        "  # lr = 0.01 if i < 100000 else 0.01\n",
        "\n",
        "  # update\n",
        "  for p in params:\n",
        "    p.data += -lr * p.grad\n",
        "\n",
        "  # statistics for plotting\n",
        "  stepi.append(_)\n",
        "  lossi.append(loss_.item())"
      ],
      "metadata": {
        "id": "qn5s92wtGegQ"
      },
      "id": "qn5s92wtGegQ",
      "execution_count": 42,
      "outputs": []
    },
    {
      "cell_type": "code",
      "source": [
        "import matplotlib.pyplot as plt\n",
        "%matplotlib inline\n",
        "\n",
        "plt.plot(stepi, lossi)"
      ],
      "metadata": {
        "colab": {
          "base_uri": "https://localhost:8080/",
          "height": 447
        },
        "id": "EhDcSmwkJuGg",
        "outputId": "447cbc1f-8a31-4023-d59b-f55fa02c3f83"
      },
      "id": "EhDcSmwkJuGg",
      "execution_count": 43,
      "outputs": [
        {
          "output_type": "execute_result",
          "data": {
            "text/plain": [
              "[<matplotlib.lines.Line2D at 0x7f8d4e813b50>]"
            ]
          },
          "metadata": {},
          "execution_count": 43
        },
        {
          "output_type": "display_data",
          "data": {
            "text/plain": [
              "<Figure size 640x480 with 1 Axes>"
            ],
            "image/png": "[encoded data removed]"
          },
          "metadata": {}
        }
      ]
    },
    {
      "cell_type": "code",
      "source": [
        "emb = C[x_train] # (32, 3, 2)\n",
        "h = torch.tanh(emb.view(-1, context_size*embedding_size) @ W1 + b1) # (32, 100)\n",
        "logits = h @ W2 + b2 # (32, 27)\n",
        "loss = F.cross_entropy(logits, y_train)\n",
        "loss"
      ],
      "metadata": {
        "colab": {
          "base_uri": "https://localhost:8080/"
        },
        "id": "DunzmvrrHxhK",
        "outputId": "49d3f6f8-51eb-43ed-dc5d-b1fdf930a290"
      },
      "id": "DunzmvrrHxhK",
      "execution_count": 44,
      "outputs": [
        {
          "output_type": "execute_result",
          "data": {
            "text/plain": [
              "tensor(2.4721, grad_fn=<NllLossBackward0>)"
            ]
          },
          "metadata": {},
          "execution_count": 44
        }
      ]
    },
    {
      "cell_type": "code",
      "source": [
        "emb = C[x_dev] # (32, 3, 2)\n",
        "h = torch.tanh(emb.view(-1, context_size*embedding_size) @ W1 + b1) # (32, 100)\n",
        "logits = h @ W2 + b2 # (32, 27)\n",
        "loss = F.cross_entropy(logits, y_dev)\n",
        "loss"
      ],
      "metadata": {
        "colab": {
          "base_uri": "https://localhost:8080/"
        },
        "id": "66v29o4IH7Oy",
        "outputId": "4823d57a-75df-4793-8df4-cbd8f73c12d9"
      },
      "id": "66v29o4IH7Oy",
      "execution_count": 45,
      "outputs": [
        {
          "output_type": "execute_result",
          "data": {
            "text/plain": [
              "tensor(2.5807, grad_fn=<NllLossBackward0>)"
            ]
          },
          "metadata": {},
          "execution_count": 45
        }
      ]
    }
  ],
  "metadata": {
    "kernelspec": {
      "display_name": "Python 3 (ipykernel)",
      "language": "python",
      "name": "python3"
    },
    "language_info": {
      "codemirror_mode": {
        "name": "ipython",
        "version": 3
      },
      "file_extension": ".py",
      "mimetype": "text/x-python",
      "name": "python",
      "nbconvert_exporter": "python",
      "pygments_lexer": "ipython3",
      "version": "3.9.7"
    },
    "colab": {
      "provenance": []
    }
  },
  "nbformat": 4,
  "nbformat_minor": 5
}