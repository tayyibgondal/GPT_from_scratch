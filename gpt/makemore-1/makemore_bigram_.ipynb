{
  "cells": [
    {
      "cell_type": "markdown",
      "source": [
        "# Part 1: Implementation of basic bigram model"
      ],
      "metadata": {
        "id": "PvI6jLv_s66u"
      },
      "id": "PvI6jLv_s66u"
    },
    {
      "cell_type": "markdown",
      "source": [
        "### Creating Look up table for counts of bigrams [a dictionary]"
      ],
      "metadata": {
        "id": "UlKs6k4vEnL1"
      },
      "id": "UlKs6k4vEnL1"
    },
    {
      "cell_type": "code",
      "execution_count": 1,
      "id": "a61ec896",
      "metadata": {
        "colab": {
          "base_uri": "https://localhost:8080/"
        },
        "id": "a61ec896",
        "outputId": "b1b526c2-0341-4ba4-db55-48456f448683"
      },
      "outputs": [
        {
          "output_type": "execute_result",
          "data": {
            "text/plain": [
              "['emma',\n",
              " 'olivia',\n",
              " 'ava',\n",
              " 'isabella',\n",
              " 'sophia',\n",
              " 'charlotte',\n",
              " 'mia',\n",
              " 'amelia',\n",
              " 'harper',\n",
              " 'evelyn']"
            ]
          },
          "metadata": {},
          "execution_count": 1
        }
      ],
      "source": [
        "words = open('/names.txt', 'r').read().splitlines()\n",
        "words[:10]"
      ]
    },
    {
      "cell_type": "code",
      "execution_count": 2,
      "id": "155ff6d3",
      "metadata": {
        "colab": {
          "base_uri": "https://localhost:8080/"
        },
        "id": "155ff6d3",
        "outputId": "26893e36-cd87-4082-e1e3-ff40a026481b"
      },
      "outputs": [
        {
          "output_type": "execute_result",
          "data": {
            "text/plain": [
              "32033"
            ]
          },
          "metadata": {},
          "execution_count": 2
        }
      ],
      "source": [
        "len(words)"
      ]
    },
    {
      "cell_type": "code",
      "execution_count": 3,
      "id": "c3199029",
      "metadata": {
        "id": "c3199029"
      },
      "outputs": [],
      "source": [
        "bigrams = {}\n",
        "for word in words:\n",
        "    word = '.' + word + '.'  # adding start and end tokens for each word\n",
        "    for ch1, ch2 in zip(word, word[1:]):\n",
        "        bg = (ch1, ch2)\n",
        "        bigrams[bg] = bigrams.get(bg, 0) + 1"
      ]
    },
    {
      "cell_type": "code",
      "execution_count": 4,
      "id": "ce0e258b",
      "metadata": {
        "colab": {
          "base_uri": "https://localhost:8080/"
        },
        "id": "ce0e258b",
        "outputId": "804b20e3-f37a-4914-85c1-e014e0466b22"
      },
      "outputs": [
        {
          "output_type": "execute_result",
          "data": {
            "text/plain": [
              "[(('n', '.'), 6763),\n",
              " (('a', '.'), 6640),\n",
              " (('a', 'n'), 5438),\n",
              " (('.', 'a'), 4410),\n",
              " (('e', '.'), 3983),\n",
              " (('a', 'r'), 3264),\n",
              " (('e', 'l'), 3248),\n",
              " (('r', 'i'), 3033),\n",
              " (('n', 'a'), 2977),\n",
              " (('.', 'k'), 2963),\n",
              " (('l', 'e'), 2921),\n",
              " (('e', 'n'), 2675),\n",
              " (('l', 'a'), 2623),\n",
              " (('m', 'a'), 2590),\n",
              " (('.', 'm'), 2538),\n",
              " (('a', 'l'), 2528),\n",
              " (('i', '.'), 2489),\n",
              " (('l', 'i'), 2480),\n",
              " (('i', 'a'), 2445),\n",
              " (('.', 'j'), 2422),\n",
              " (('o', 'n'), 2411),\n",
              " (('h', '.'), 2409),\n",
              " (('r', 'a'), 2356),\n",
              " (('a', 'h'), 2332),\n",
              " (('h', 'a'), 2244),\n",
              " (('y', 'a'), 2143),\n",
              " (('i', 'n'), 2126),\n",
              " (('.', 's'), 2055),\n",
              " (('a', 'y'), 2050),\n",
              " (('y', '.'), 2007),\n",
              " (('e', 'r'), 1958),\n",
              " (('n', 'n'), 1906),\n",
              " (('y', 'n'), 1826),\n",
              " (('k', 'a'), 1731),\n",
              " (('n', 'i'), 1725),\n",
              " (('r', 'e'), 1697),\n",
              " (('.', 'd'), 1690),\n",
              " (('i', 'e'), 1653),\n",
              " (('a', 'i'), 1650),\n",
              " (('.', 'r'), 1639),\n",
              " (('a', 'm'), 1634),\n",
              " (('l', 'y'), 1588),\n",
              " (('.', 'l'), 1572),\n",
              " (('.', 'c'), 1542),\n",
              " (('.', 'e'), 1531),\n",
              " (('j', 'a'), 1473),\n",
              " (('r', '.'), 1377),\n",
              " (('n', 'e'), 1359),\n",
              " (('l', 'l'), 1345),\n",
              " (('i', 'l'), 1345),\n",
              " (('i', 's'), 1316),\n",
              " (('l', '.'), 1314),\n",
              " (('.', 't'), 1308),\n",
              " (('.', 'b'), 1306),\n",
              " (('d', 'a'), 1303),\n",
              " (('s', 'h'), 1285),\n",
              " (('d', 'e'), 1283),\n",
              " (('e', 'e'), 1271),\n",
              " (('m', 'i'), 1256),\n",
              " (('s', 'a'), 1201),\n",
              " (('s', '.'), 1169),\n",
              " (('.', 'n'), 1146),\n",
              " (('a', 's'), 1118),\n",
              " (('y', 'l'), 1104),\n",
              " (('e', 'y'), 1070),\n",
              " (('o', 'r'), 1059),\n",
              " (('a', 'd'), 1042),\n",
              " (('t', 'a'), 1027),\n",
              " (('.', 'z'), 929),\n",
              " (('v', 'i'), 911),\n",
              " (('k', 'e'), 895),\n",
              " (('s', 'e'), 884),\n",
              " (('.', 'h'), 874),\n",
              " (('r', 'o'), 869),\n",
              " (('e', 's'), 861),\n",
              " (('z', 'a'), 860),\n",
              " (('o', '.'), 855),\n",
              " (('i', 'r'), 849),\n",
              " (('b', 'r'), 842),\n",
              " (('a', 'v'), 834),\n",
              " (('m', 'e'), 818),\n",
              " (('e', 'i'), 818),\n",
              " (('c', 'a'), 815),\n",
              " (('i', 'y'), 779),\n",
              " (('r', 'y'), 773),\n",
              " (('e', 'm'), 769),\n",
              " (('s', 't'), 765),\n",
              " (('h', 'i'), 729),\n",
              " (('t', 'e'), 716),\n",
              " (('n', 'd'), 704),\n",
              " (('l', 'o'), 692),\n",
              " (('a', 'e'), 692),\n",
              " (('a', 't'), 687),\n",
              " (('s', 'i'), 684),\n",
              " (('e', 'a'), 679),\n",
              " (('d', 'i'), 674),\n",
              " (('h', 'e'), 674),\n",
              " (('.', 'g'), 669),\n",
              " (('t', 'o'), 667),\n",
              " (('c', 'h'), 664),\n",
              " (('b', 'e'), 655),\n",
              " (('t', 'h'), 647),\n",
              " (('v', 'a'), 642),\n",
              " (('o', 'l'), 619),\n",
              " (('.', 'i'), 591),\n",
              " (('i', 'o'), 588),\n",
              " (('e', 't'), 580),\n",
              " (('v', 'e'), 568),\n",
              " (('a', 'k'), 568),\n",
              " (('a', 'a'), 556),\n",
              " (('c', 'e'), 551),\n",
              " (('a', 'b'), 541),\n",
              " (('i', 't'), 541),\n",
              " (('.', 'y'), 535),\n",
              " (('t', 'i'), 532),\n",
              " (('s', 'o'), 531),\n",
              " (('m', '.'), 516),\n",
              " (('d', '.'), 516),\n",
              " (('.', 'p'), 515),\n",
              " (('i', 'c'), 509),\n",
              " (('k', 'i'), 509),\n",
              " (('o', 's'), 504),\n",
              " (('n', 'o'), 496),\n",
              " (('t', '.'), 483),\n",
              " (('j', 'o'), 479),\n",
              " (('u', 's'), 474),\n",
              " (('a', 'c'), 470),\n",
              " (('n', 'y'), 465),\n",
              " (('e', 'v'), 463),\n",
              " (('s', 's'), 461),\n",
              " (('m', 'o'), 452),\n",
              " (('i', 'k'), 445),\n",
              " (('n', 't'), 443),\n",
              " (('i', 'd'), 440),\n",
              " (('j', 'e'), 440),\n",
              " (('a', 'z'), 435),\n",
              " (('i', 'g'), 428),\n",
              " (('i', 'm'), 427),\n",
              " (('r', 'r'), 425),\n",
              " (('d', 'r'), 424),\n",
              " (('.', 'f'), 417),\n",
              " (('u', 'r'), 414),\n",
              " (('r', 'l'), 413),\n",
              " (('y', 's'), 401),\n",
              " (('.', 'o'), 394),\n",
              " (('e', 'd'), 384),\n",
              " (('a', 'u'), 381),\n",
              " (('c', 'o'), 380),\n",
              " (('k', 'y'), 379),\n",
              " (('d', 'o'), 378),\n",
              " (('.', 'v'), 376),\n",
              " (('t', 't'), 374),\n",
              " (('z', 'e'), 373),\n",
              " (('z', 'i'), 364),\n",
              " (('k', '.'), 363),\n",
              " (('g', 'h'), 360),\n",
              " (('t', 'r'), 352),\n",
              " (('k', 'o'), 344),\n",
              " (('t', 'y'), 341),\n",
              " (('g', 'e'), 334),\n",
              " (('g', 'a'), 330),\n",
              " (('l', 'u'), 324),\n",
              " (('b', 'a'), 321),\n",
              " (('d', 'y'), 317),\n",
              " (('c', 'k'), 316),\n",
              " (('.', 'w'), 307),\n",
              " (('k', 'h'), 307),\n",
              " (('u', 'l'), 301),\n",
              " (('y', 'e'), 301),\n",
              " (('y', 'r'), 291),\n",
              " (('m', 'y'), 287),\n",
              " (('h', 'o'), 287),\n",
              " (('w', 'a'), 280),\n",
              " (('s', 'l'), 279),\n",
              " (('n', 's'), 278),\n",
              " (('i', 'z'), 277),\n",
              " (('u', 'n'), 275),\n",
              " (('o', 'u'), 275),\n",
              " (('n', 'g'), 273),\n",
              " (('y', 'd'), 272),\n",
              " (('c', 'i'), 271),\n",
              " (('y', 'o'), 271),\n",
              " (('i', 'v'), 269),\n",
              " (('e', 'o'), 269),\n",
              " (('o', 'm'), 261),\n",
              " (('r', 'u'), 252),\n",
              " (('f', 'a'), 242),\n",
              " (('b', 'i'), 217),\n",
              " (('s', 'y'), 215),\n",
              " (('n', 'c'), 213),\n",
              " (('h', 'y'), 213),\n",
              " (('p', 'a'), 209),\n",
              " (('r', 't'), 208),\n",
              " (('q', 'u'), 206),\n",
              " (('p', 'h'), 204),\n",
              " (('h', 'r'), 204),\n",
              " (('j', 'u'), 202),\n",
              " (('g', 'r'), 201),\n",
              " (('p', 'e'), 197),\n",
              " (('n', 'l'), 195),\n",
              " (('y', 'i'), 192),\n",
              " (('g', 'i'), 190),\n",
              " (('o', 'd'), 190),\n",
              " (('r', 's'), 190),\n",
              " (('r', 'd'), 187),\n",
              " (('h', 'l'), 185),\n",
              " (('s', 'u'), 185),\n",
              " (('a', 'x'), 182),\n",
              " (('e', 'z'), 181),\n",
              " (('e', 'k'), 178),\n",
              " (('o', 'v'), 176),\n",
              " (('a', 'j'), 175),\n",
              " (('o', 'h'), 171),\n",
              " (('u', 'e'), 169),\n",
              " (('m', 'm'), 168),\n",
              " (('a', 'g'), 168),\n",
              " (('h', 'u'), 166),\n",
              " (('x', '.'), 164),\n",
              " (('u', 'a'), 163),\n",
              " (('r', 'm'), 162),\n",
              " (('a', 'w'), 161),\n",
              " (('f', 'i'), 160),\n",
              " (('z', '.'), 160),\n",
              " (('u', '.'), 155),\n",
              " (('u', 'm'), 154),\n",
              " (('e', 'c'), 153),\n",
              " (('v', 'o'), 153),\n",
              " (('e', 'h'), 152),\n",
              " (('p', 'r'), 151),\n",
              " (('d', 'd'), 149),\n",
              " (('o', 'a'), 149),\n",
              " (('w', 'e'), 149),\n",
              " (('w', 'i'), 148),\n",
              " (('y', 'm'), 148),\n",
              " (('z', 'y'), 147),\n",
              " (('n', 'z'), 145),\n",
              " (('y', 'u'), 141),\n",
              " (('r', 'n'), 140),\n",
              " (('o', 'b'), 140),\n",
              " (('k', 'l'), 139),\n",
              " (('m', 'u'), 139),\n",
              " (('l', 'd'), 138),\n",
              " (('h', 'n'), 138),\n",
              " (('u', 'd'), 136),\n",
              " (('.', 'x'), 134),\n",
              " (('t', 'l'), 134),\n",
              " (('a', 'f'), 134),\n",
              " (('o', 'e'), 132),\n",
              " (('e', 'x'), 132),\n",
              " (('e', 'g'), 125),\n",
              " (('f', 'e'), 123),\n",
              " (('z', 'l'), 123),\n",
              " (('u', 'i'), 121),\n",
              " (('v', 'y'), 121),\n",
              " (('e', 'b'), 121),\n",
              " (('r', 'h'), 121),\n",
              " (('j', 'i'), 119),\n",
              " (('o', 't'), 118),\n",
              " (('d', 'h'), 118),\n",
              " (('h', 'm'), 117),\n",
              " (('c', 'l'), 116),\n",
              " (('o', 'o'), 115),\n",
              " (('y', 'c'), 115),\n",
              " (('o', 'w'), 114),\n",
              " (('o', 'c'), 114),\n",
              " (('f', 'r'), 114),\n",
              " (('b', '.'), 114),\n",
              " (('m', 'b'), 112),\n",
              " (('z', 'o'), 110),\n",
              " (('i', 'b'), 110),\n",
              " (('i', 'u'), 109),\n",
              " (('k', 'r'), 109),\n",
              " (('g', '.'), 108),\n",
              " (('y', 'v'), 106),\n",
              " (('t', 'z'), 105),\n",
              " (('b', 'o'), 105),\n",
              " (('c', 'y'), 104),\n",
              " (('y', 't'), 104),\n",
              " (('u', 'b'), 103),\n",
              " (('u', 'c'), 103),\n",
              " (('x', 'a'), 103),\n",
              " (('b', 'l'), 103),\n",
              " (('o', 'y'), 103),\n",
              " (('x', 'i'), 102),\n",
              " (('i', 'f'), 101),\n",
              " (('r', 'c'), 99),\n",
              " (('c', '.'), 97),\n",
              " (('m', 'r'), 97),\n",
              " (('n', 'u'), 96),\n",
              " (('o', 'p'), 95),\n",
              " (('i', 'h'), 95),\n",
              " (('k', 's'), 95),\n",
              " (('l', 's'), 94),\n",
              " (('u', 'k'), 93),\n",
              " (('.', 'q'), 92),\n",
              " (('d', 'u'), 92),\n",
              " (('s', 'm'), 90),\n",
              " (('r', 'k'), 90),\n",
              " (('i', 'x'), 89),\n",
              " (('v', '.'), 88),\n",
              " (('y', 'k'), 86),\n",
              " (('u', 'w'), 86),\n",
              " (('g', 'u'), 85),\n",
              " (('b', 'y'), 83),\n",
              " (('e', 'p'), 83),\n",
              " (('g', 'o'), 83),\n",
              " (('s', 'k'), 82),\n",
              " (('u', 't'), 82),\n",
              " (('a', 'p'), 82),\n",
              " (('e', 'f'), 82),\n",
              " (('i', 'i'), 82),\n",
              " (('r', 'v'), 80),\n",
              " (('f', '.'), 80),\n",
              " (('t', 'u'), 78),\n",
              " (('y', 'z'), 78),\n",
              " (('.', 'u'), 78),\n",
              " (('l', 't'), 77),\n",
              " (('r', 'g'), 76),\n",
              " (('c', 'r'), 76),\n",
              " (('i', 'j'), 76),\n",
              " (('w', 'y'), 73),\n",
              " (('z', 'u'), 73),\n",
              " (('l', 'v'), 72),\n",
              " (('h', 't'), 71),\n",
              " (('j', '.'), 71),\n",
              " (('x', 't'), 70),\n",
              " (('o', 'i'), 69),\n",
              " (('e', 'u'), 69),\n",
              " (('o', 'k'), 68),\n",
              " (('b', 'd'), 65),\n",
              " (('a', 'o'), 63),\n",
              " (('p', 'i'), 61),\n",
              " (('s', 'c'), 60),\n",
              " (('d', 'l'), 60),\n",
              " (('l', 'm'), 60),\n",
              " (('a', 'q'), 60),\n",
              " (('f', 'o'), 60),\n",
              " (('p', 'o'), 59),\n",
              " (('n', 'k'), 58),\n",
              " (('w', 'n'), 58),\n",
              " (('u', 'h'), 58),\n",
              " (('e', 'j'), 55),\n",
              " (('n', 'v'), 55),\n",
              " (('s', 'r'), 55),\n",
              " (('o', 'z'), 54),\n",
              " (('i', 'p'), 53),\n",
              " (('l', 'b'), 52),\n",
              " (('i', 'q'), 52),\n",
              " (('w', '.'), 51),\n",
              " (('m', 'c'), 51),\n",
              " (('s', 'p'), 51),\n",
              " (('e', 'w'), 50),\n",
              " (('k', 'u'), 50),\n",
              " (('v', 'r'), 48),\n",
              " (('u', 'g'), 47),\n",
              " (('o', 'x'), 45),\n",
              " (('u', 'z'), 45),\n",
              " (('z', 'z'), 45),\n",
              " (('j', 'h'), 45),\n",
              " (('b', 'u'), 45),\n",
              " (('o', 'g'), 44),\n",
              " (('n', 'r'), 44),\n",
              " (('f', 'f'), 44),\n",
              " (('n', 'j'), 44),\n",
              " (('z', 'h'), 43),\n",
              " (('c', 'c'), 42),\n",
              " (('r', 'b'), 41),\n",
              " (('x', 'o'), 41),\n",
              " (('b', 'h'), 41),\n",
              " (('p', 'p'), 39),\n",
              " (('x', 'l'), 39),\n",
              " (('h', 'v'), 39),\n",
              " (('b', 'b'), 38),\n",
              " (('m', 'p'), 38),\n",
              " (('x', 'x'), 38),\n",
              " (('u', 'v'), 37),\n",
              " (('x', 'e'), 36),\n",
              " (('w', 'o'), 36),\n",
              " (('c', 't'), 35),\n",
              " (('z', 'm'), 35),\n",
              " (('t', 's'), 35),\n",
              " (('m', 's'), 35),\n",
              " (('c', 'u'), 35),\n",
              " (('o', 'f'), 34),\n",
              " (('u', 'x'), 34),\n",
              " (('k', 'w'), 34),\n",
              " (('p', '.'), 33),\n",
              " (('g', 'l'), 32),\n",
              " (('z', 'r'), 32),\n",
              " (('d', 'n'), 31),\n",
              " (('g', 't'), 31),\n",
              " (('g', 'y'), 31),\n",
              " (('h', 's'), 31),\n",
              " (('x', 's'), 31),\n",
              " (('g', 's'), 30),\n",
              " (('x', 'y'), 30),\n",
              " (('y', 'g'), 30),\n",
              " (('d', 'm'), 30),\n",
              " (('d', 's'), 29),\n",
              " (('h', 'k'), 29),\n",
              " (('y', 'x'), 28),\n",
              " (('q', '.'), 28),\n",
              " (('g', 'n'), 27),\n",
              " (('y', 'b'), 27),\n",
              " (('g', 'w'), 26),\n",
              " (('n', 'h'), 26),\n",
              " (('k', 'n'), 26),\n",
              " (('g', 'g'), 25),\n",
              " (('d', 'g'), 25),\n",
              " (('l', 'c'), 25),\n",
              " (('r', 'j'), 25),\n",
              " (('w', 'u'), 25),\n",
              " (('l', 'k'), 24),\n",
              " (('m', 'd'), 24),\n",
              " (('s', 'w'), 24),\n",
              " (('s', 'n'), 24),\n",
              " (('h', 'd'), 24),\n",
              " (('w', 'h'), 23),\n",
              " (('y', 'j'), 23),\n",
              " (('y', 'y'), 23),\n",
              " (('r', 'z'), 23),\n",
              " (('d', 'w'), 23),\n",
              " (('w', 'r'), 22),\n",
              " (('t', 'n'), 22),\n",
              " (('l', 'f'), 22),\n",
              " (('y', 'h'), 22),\n",
              " (('r', 'w'), 21),\n",
              " (('s', 'b'), 21),\n",
              " (('m', 'n'), 20),\n",
              " (('f', 'l'), 20),\n",
              " (('w', 's'), 20),\n",
              " (('k', 'k'), 20),\n",
              " (('h', 'z'), 20),\n",
              " (('g', 'd'), 19),\n",
              " (('l', 'h'), 19),\n",
              " (('n', 'm'), 19),\n",
              " (('x', 'z'), 19),\n",
              " (('u', 'f'), 19),\n",
              " (('f', 't'), 18),\n",
              " (('l', 'r'), 18),\n",
              " (('p', 't'), 17),\n",
              " (('t', 'c'), 17),\n",
              " (('k', 't'), 17),\n",
              " (('d', 'v'), 17),\n",
              " (('u', 'p'), 16),\n",
              " (('p', 'l'), 16),\n",
              " (('l', 'w'), 16),\n",
              " (('p', 's'), 16),\n",
              " (('o', 'j'), 16),\n",
              " (('r', 'q'), 16),\n",
              " (('y', 'p'), 15),\n",
              " (('l', 'p'), 15),\n",
              " (('t', 'v'), 15),\n",
              " (('r', 'p'), 14),\n",
              " (('l', 'n'), 14),\n",
              " (('e', 'q'), 14),\n",
              " (('f', 'y'), 14),\n",
              " (('s', 'v'), 14),\n",
              " (('u', 'j'), 14),\n",
              " (('v', 'l'), 14),\n",
              " (('q', 'a'), 13),\n",
              " (('u', 'y'), 13),\n",
              " (('q', 'i'), 13),\n",
              " (('w', 'l'), 13),\n",
              " (('p', 'y'), 12),\n",
              " (('y', 'f'), 12),\n",
              " (('c', 'q'), 11),\n",
              " (('j', 'r'), 11),\n",
              " (('n', 'w'), 11),\n",
              " (('n', 'f'), 11),\n",
              " (('t', 'w'), 11),\n",
              " (('m', 'z'), 11),\n",
              " (('u', 'o'), 10),\n",
              " (('f', 'u'), 10),\n",
              " (('l', 'z'), 10),\n",
              " (('h', 'w'), 10),\n",
              " (('u', 'q'), 10),\n",
              " (('j', 'y'), 10),\n",
              " (('s', 'z'), 10),\n",
              " (('s', 'd'), 9),\n",
              " (('j', 'l'), 9),\n",
              " (('d', 'j'), 9),\n",
              " (('k', 'm'), 9),\n",
              " (('r', 'f'), 9),\n",
              " (('h', 'j'), 9),\n",
              " (('v', 'n'), 8),\n",
              " (('n', 'b'), 8),\n",
              " (('i', 'w'), 8),\n",
              " (('h', 'b'), 8),\n",
              " (('b', 's'), 8),\n",
              " (('w', 't'), 8),\n",
              " (('w', 'd'), 8),\n",
              " (('v', 'v'), 7),\n",
              " (('v', 'u'), 7),\n",
              " (('j', 's'), 7),\n",
              " (('m', 'j'), 7),\n",
              " (('f', 's'), 6),\n",
              " (('l', 'g'), 6),\n",
              " (('l', 'j'), 6),\n",
              " (('j', 'w'), 6),\n",
              " (('n', 'x'), 6),\n",
              " (('y', 'q'), 6),\n",
              " (('w', 'k'), 6),\n",
              " (('g', 'm'), 6),\n",
              " (('x', 'u'), 5),\n",
              " (('m', 'h'), 5),\n",
              " (('m', 'l'), 5),\n",
              " (('j', 'm'), 5),\n",
              " (('c', 's'), 5),\n",
              " (('j', 'v'), 5),\n",
              " (('n', 'p'), 5),\n",
              " (('d', 'f'), 5),\n",
              " (('x', 'd'), 5),\n",
              " (('z', 'b'), 4),\n",
              " (('f', 'n'), 4),\n",
              " (('x', 'c'), 4),\n",
              " (('m', 't'), 4),\n",
              " (('t', 'm'), 4),\n",
              " (('z', 'n'), 4),\n",
              " (('z', 't'), 4),\n",
              " (('p', 'u'), 4),\n",
              " (('c', 'z'), 4),\n",
              " (('b', 'n'), 4),\n",
              " (('z', 's'), 4),\n",
              " (('f', 'w'), 4),\n",
              " (('d', 't'), 4),\n",
              " (('j', 'd'), 4),\n",
              " (('j', 'c'), 4),\n",
              " (('y', 'w'), 4),\n",
              " (('v', 'k'), 3),\n",
              " (('x', 'w'), 3),\n",
              " (('t', 'j'), 3),\n",
              " (('c', 'j'), 3),\n",
              " (('q', 'w'), 3),\n",
              " (('g', 'b'), 3),\n",
              " (('o', 'q'), 3),\n",
              " (('r', 'x'), 3),\n",
              " (('d', 'c'), 3),\n",
              " (('g', 'j'), 3),\n",
              " (('x', 'f'), 3),\n",
              " (('z', 'w'), 3),\n",
              " (('d', 'k'), 3),\n",
              " (('u', 'u'), 3),\n",
              " (('m', 'v'), 3),\n",
              " (('c', 'x'), 3),\n",
              " (('l', 'q'), 3),\n",
              " (('p', 'b'), 2),\n",
              " (('t', 'g'), 2),\n",
              " (('q', 's'), 2),\n",
              " (('t', 'x'), 2),\n",
              " (('f', 'k'), 2),\n",
              " (('b', 't'), 2),\n",
              " (('j', 'n'), 2),\n",
              " (('k', 'c'), 2),\n",
              " (('z', 'k'), 2),\n",
              " (('s', 'j'), 2),\n",
              " (('s', 'f'), 2),\n",
              " (('z', 'j'), 2),\n",
              " (('n', 'q'), 2),\n",
              " (('f', 'z'), 2),\n",
              " (('h', 'g'), 2),\n",
              " (('w', 'w'), 2),\n",
              " (('k', 'j'), 2),\n",
              " (('j', 'k'), 2),\n",
              " (('w', 'm'), 2),\n",
              " (('z', 'c'), 2),\n",
              " (('z', 'v'), 2),\n",
              " (('w', 'f'), 2),\n",
              " (('q', 'm'), 2),\n",
              " (('k', 'z'), 2),\n",
              " (('j', 'j'), 2),\n",
              " (('z', 'p'), 2),\n",
              " (('j', 't'), 2),\n",
              " (('k', 'b'), 2),\n",
              " (('m', 'w'), 2),\n",
              " (('h', 'f'), 2),\n",
              " (('c', 'g'), 2),\n",
              " (('t', 'f'), 2),\n",
              " (('h', 'c'), 2),\n",
              " (('q', 'o'), 2),\n",
              " (('k', 'd'), 2),\n",
              " (('k', 'v'), 2),\n",
              " (('s', 'g'), 2),\n",
              " (('z', 'd'), 2),\n",
              " (('q', 'r'), 1),\n",
              " (('d', 'z'), 1),\n",
              " (('p', 'j'), 1),\n",
              " (('q', 'l'), 1),\n",
              " (('p', 'f'), 1),\n",
              " (('q', 'e'), 1),\n",
              " (('b', 'c'), 1),\n",
              " (('c', 'd'), 1),\n",
              " (('m', 'f'), 1),\n",
              " (('p', 'n'), 1),\n",
              " (('w', 'b'), 1),\n",
              " (('p', 'c'), 1),\n",
              " (('h', 'p'), 1),\n",
              " (('f', 'h'), 1),\n",
              " (('b', 'j'), 1),\n",
              " (('f', 'g'), 1),\n",
              " (('z', 'g'), 1),\n",
              " (('c', 'p'), 1),\n",
              " (('p', 'k'), 1),\n",
              " (('p', 'm'), 1),\n",
              " (('x', 'n'), 1),\n",
              " (('s', 'q'), 1),\n",
              " (('k', 'f'), 1),\n",
              " (('m', 'k'), 1),\n",
              " (('x', 'h'), 1),\n",
              " (('g', 'f'), 1),\n",
              " (('v', 'b'), 1),\n",
              " (('j', 'p'), 1),\n",
              " (('g', 'z'), 1),\n",
              " (('v', 'd'), 1),\n",
              " (('d', 'b'), 1),\n",
              " (('v', 'h'), 1),\n",
              " (('h', 'h'), 1),\n",
              " (('g', 'v'), 1),\n",
              " (('d', 'q'), 1),\n",
              " (('x', 'b'), 1),\n",
              " (('w', 'z'), 1),\n",
              " (('h', 'q'), 1),\n",
              " (('j', 'b'), 1),\n",
              " (('x', 'm'), 1),\n",
              " (('w', 'g'), 1),\n",
              " (('t', 'b'), 1),\n",
              " (('z', 'x'), 1)]"
            ]
          },
          "metadata": {},
          "execution_count": 4
        }
      ],
      "source": [
        "sorted(bigrams.items(), key = lambda kv: -kv[1])"
      ]
    },
    {
      "cell_type": "markdown",
      "source": [
        "### Creating Look up table for counts of bigrams: Using Tensor rather than dictionary"
      ],
      "metadata": {
        "id": "qJub5KDuE0cP"
      },
      "id": "qJub5KDuE0cP"
    },
    {
      "cell_type": "code",
      "execution_count": 5,
      "id": "d118cbe5",
      "metadata": {
        "id": "d118cbe5"
      },
      "outputs": [],
      "source": [
        "# Instead of dictionary, it'll be convenient to store\n",
        "# the above information in the form of a tensor."
      ]
    },
    {
      "cell_type": "code",
      "execution_count": 6,
      "id": "aa2d08a4",
      "metadata": {
        "colab": {
          "base_uri": "https://localhost:8080/"
        },
        "id": "aa2d08a4",
        "outputId": "af668c1f-9e0a-4556-afaa-80356bfcd9ad"
      },
      "outputs": [
        {
          "output_type": "stream",
          "name": "stdout",
          "text": [
            "stoi: \n",
            "{'.': 0, 'a': 1, 'b': 2, 'c': 3, 'd': 4, 'e': 5, 'f': 6, 'g': 7, 'h': 8, 'i': 9, 'j': 10, 'k': 11, 'l': 12, 'm': 13, 'n': 14, 'o': 15, 'p': 16, 'q': 17, 'r': 18, 's': 19, 't': 20, 'u': 21, 'v': 22, 'w': 23, 'x': 24, 'y': 25, 'z': 26}\n",
            "itos: \n",
            "{0: '.', 1: 'a', 2: 'b', 3: 'c', 4: 'd', 5: 'e', 6: 'f', 7: 'g', 8: 'h', 9: 'i', 10: 'j', 11: 'k', 12: 'l', 13: 'm', 14: 'n', 15: 'o', 16: 'p', 17: 'q', 18: 'r', 19: 's', 20: 't', 21: 'u', 22: 'v', 23: 'w', 24: 'x', 25: 'y', 26: 'z'}\n"
          ]
        }
      ],
      "source": [
        "unique_chars = ['.'] + (sorted(set(''.join(words))))  # list\n",
        "stoi = {s:i for i, s in enumerate(unique_chars)}\n",
        "itos = {i:s for i, s in enumerate(unique_chars)}\n",
        "\n",
        "print(f'stoi: \\n{stoi}\\nitos: \\n{itos}')"
      ]
    },
    {
      "cell_type": "code",
      "execution_count": 7,
      "id": "79254a26",
      "metadata": {
        "id": "79254a26"
      },
      "outputs": [],
      "source": [
        "import torch"
      ]
    },
    {
      "cell_type": "code",
      "execution_count": 8,
      "id": "1b13406b",
      "metadata": {
        "id": "1b13406b"
      },
      "outputs": [],
      "source": [
        "N = torch.zeros(27, 27)"
      ]
    },
    {
      "cell_type": "code",
      "execution_count": 9,
      "id": "8709fbde",
      "metadata": {
        "id": "8709fbde"
      },
      "outputs": [],
      "source": [
        "for word in words:\n",
        "    word = '.' + word + '.'\n",
        "    for ch1, ch2 in zip(word, word[1:]):\n",
        "        ch1_idx = stoi[ch1]\n",
        "        ch2_idx = stoi[ch2]\n",
        "        N[ch1_idx, ch2_idx] += 1"
      ]
    },
    {
      "cell_type": "code",
      "execution_count": 10,
      "id": "4956e226",
      "metadata": {
        "id": "4956e226"
      },
      "outputs": [],
      "source": [
        "import matplotlib.pyplot as plt\n",
        "%matplotlib inline"
      ]
    },
    {
      "cell_type": "code",
      "execution_count": 11,
      "id": "c275700f",
      "metadata": {
        "colab": {
          "base_uri": "https://localhost:8080/",
          "height": 447
        },
        "id": "c275700f",
        "outputId": "1c785cb7-b2fe-4a47-b7c1-fa66f05e63be"
      },
      "outputs": [
        {
          "output_type": "execute_result",
          "data": {
            "text/plain": [
              "<matplotlib.image.AxesImage at 0x7f7db97ce770>"
            ]
          },
          "metadata": {},
          "execution_count": 11
        },
        {
          "output_type": "display_data",
          "data": {
            "text/plain": [
              "<Figure size 640x480 with 1 Axes>"
            ],
            "image/png": "[encoded data removed]"
          },
          "metadata": {}
        }
      ],
      "source": [
        "plt.imshow(N)"
      ]
    },
    {
      "cell_type": "markdown",
      "source": [
        "### Converting this lookup table for counts of bigram into lookup table for probability of a certain word occuring after a certain word"
      ],
      "metadata": {
        "id": "1fNklpqEElrK"
      },
      "id": "1fNklpqEElrK"
    },
    {
      "cell_type": "code",
      "source": [
        "P = (N)/N.sum(axis=1, keepdims=True)"
      ],
      "metadata": {
        "id": "fos_JHDAFHjn"
      },
      "id": "fos_JHDAFHjn",
      "execution_count": 12,
      "outputs": []
    },
    {
      "cell_type": "code",
      "source": [
        "plt.imshow(P)"
      ],
      "metadata": {
        "colab": {
          "base_uri": "https://localhost:8080/",
          "height": 447
        },
        "id": "NDYSFy1CFMu1",
        "outputId": "3e0f8b61-c973-45ec-8180-f84f92df9ae2"
      },
      "id": "NDYSFy1CFMu1",
      "execution_count": 13,
      "outputs": [
        {
          "output_type": "execute_result",
          "data": {
            "text/plain": [
              "<matplotlib.image.AxesImage at 0x7f7db96e6170>"
            ]
          },
          "metadata": {},
          "execution_count": 13
        },
        {
          "output_type": "display_data",
          "data": {
            "text/plain": [
              "<Figure size 640x480 with 1 Axes>"
            ],
            "image/png": "[encoded data removed]"
          },
          "metadata": {}
        }
      ]
    },
    {
      "cell_type": "markdown",
      "source": [
        "### Applying smoothing"
      ],
      "metadata": {
        "id": "yRtQ75NOHegI"
      },
      "id": "yRtQ75NOHegI"
    },
    {
      "cell_type": "code",
      "source": [
        "P = (N+1)/N.sum(axis=1, keepdims=True)\n",
        "# If we add a much bigger number for smoothing, then probabilities of all the words\n",
        "# after the current word become uniform. This is because each element in\n",
        "# the row for a specific word is bumped so much that the original counts,\n",
        "# being very small, have no more any effect."
      ],
      "metadata": {
        "id": "BIVIkRCyGk01"
      },
      "id": "BIVIkRCyGk01",
      "execution_count": 14,
      "outputs": []
    },
    {
      "cell_type": "code",
      "source": [
        "plt.imshow(P)"
      ],
      "metadata": {
        "colab": {
          "base_uri": "https://localhost:8080/",
          "height": 447
        },
        "id": "PnmQayEgHi_T",
        "outputId": "362372d7-4403-47c5-8f86-eacd184e11f9"
      },
      "id": "PnmQayEgHi_T",
      "execution_count": 15,
      "outputs": [
        {
          "output_type": "execute_result",
          "data": {
            "text/plain": [
              "<matplotlib.image.AxesImage at 0x7f7ce5f0f400>"
            ]
          },
          "metadata": {},
          "execution_count": 15
        },
        {
          "output_type": "display_data",
          "data": {
            "text/plain": [
              "<Figure size 640x480 with 1 Axes>"
            ],
            "image/png": "[encoded data removed]"
          },
          "metadata": {}
        }
      ]
    },
    {
      "cell_type": "markdown",
      "source": [
        "### Sampling words"
      ],
      "metadata": {
        "id": "_YRZ1JccJDs_"
      },
      "id": "_YRZ1JccJDs_"
    },
    {
      "cell_type": "code",
      "source": [
        "for i in range(10):\n",
        "\n",
        "  output_word = []\n",
        "  starting_word_index = 0\n",
        "  while True:\n",
        "    next_word_probs = P[starting_word_index]\n",
        "    next_word_index_sampled = torch.multinomial(next_word_probs, num_samples=1,\n",
        "                                                replacement=True).item()\n",
        "    output_word.append(itos[next_word_index_sampled])\n",
        "\n",
        "    if next_word_index_sampled == 0:\n",
        "      break\n",
        "\n",
        "    # For next iteration:\n",
        "    starting_word_index = next_word_index_sampled\n",
        "\n",
        "\n",
        "  print(''.join(output_word))"
      ],
      "metadata": {
        "colab": {
          "base_uri": "https://localhost:8080/"
        },
        "id": "ZjBW6IsaHk7D",
        "outputId": "6ae780d5-954e-44d1-9df9-86d44d41af2c"
      },
      "id": "ZjBW6IsaHk7D",
      "execution_count": 16,
      "outputs": [
        {
          "output_type": "stream",
          "name": "stdout",
          "text": [
            "eren.\n",
            "walanazorielaresh.\n",
            "maemariprrysalohol.\n",
            "kela.\n",
            "k.\n",
            "kya.\n",
            "jen.\n",
            "don.\n",
            "dalyah.\n",
            "anioushah.\n"
          ]
        }
      ]
    },
    {
      "cell_type": "markdown",
      "source": [
        "### Calculating Loss"
      ],
      "metadata": {
        "id": "n5fOM8t6oAmZ"
      },
      "id": "n5fOM8t6oAmZ"
    },
    {
      "cell_type": "code",
      "source": [
        "log_likelihood = 0\n",
        "n = 0\n",
        "\n",
        "for word in words:\n",
        "  word = '.' + word + '.'\n",
        "  for ch1, ch2 in zip(word, word[1:]):\n",
        "    idx1 = stoi[ch1]\n",
        "    idx2 = stoi[ch2]\n",
        "    prob = P[idx1, idx2]\n",
        "    log_prob = torch.log(prob)\n",
        "    log_likelihood += log_prob\n",
        "    n += 1\n",
        "\n",
        "print(f'normalised neg log likelihood is {(-1*log_likelihood)/n}')\n",
        "# This is the quality of our trained model. The lower it is, the better is our model.\n",
        "# Maximizing the log likelihood is equal to minimizing negative log likelihood!"
      ],
      "metadata": {
        "colab": {
          "base_uri": "https://localhost:8080/"
        },
        "id": "GMvIu1CnKIdN",
        "outputId": "90de0a9d-967f-42db-d2ce-7efb0a493e36"
      },
      "id": "GMvIu1CnKIdN",
      "execution_count": 17,
      "outputs": [
        {
          "output_type": "stream",
          "name": "stdout",
          "text": [
            "normalised neg log likelihood is 2.4515998363494873\n"
          ]
        }
      ]
    },
    {
      "cell_type": "markdown",
      "source": [
        "# Part 2: Neural net implementation of bigram model"
      ],
      "metadata": {
        "id": "zW0Gj1Jfs08d"
      },
      "id": "zW0Gj1Jfs08d"
    },
    {
      "cell_type": "markdown",
      "source": [
        "### Creating inputs, and corresponding labels, doing forward pass, computing loss: Baby example"
      ],
      "metadata": {
        "id": "g6CApGaRuBHu"
      },
      "id": "g6CApGaRuBHu"
    },
    {
      "cell_type": "code",
      "source": [
        "xs, ys = [], []\n",
        "\n",
        "for word in words[:1]:\n",
        "  word = '.' + word + '.'\n",
        "  for ch1, ch2 in zip(word, word[1:]):\n",
        "    idx1 = stoi[ch1]\n",
        "    idx2 = stoi[ch2]\n",
        "    xs.append(idx1)\n",
        "    ys.append(idx2)\n",
        "\n",
        "xs = torch.tensor(xs)\n",
        "ys = torch.tensor(ys)"
      ],
      "metadata": {
        "id": "xAK2wVDFrETD"
      },
      "id": "xAK2wVDFrETD",
      "execution_count": 18,
      "outputs": []
    },
    {
      "cell_type": "code",
      "source": [
        "# Representing xs as one hot encoded vectors\n",
        "import torch.nn.functional as F\n",
        "x_enc = F.one_hot(xs, num_classes=27).float()\n",
        "x_enc.shape"
      ],
      "metadata": {
        "colab": {
          "base_uri": "https://localhost:8080/"
        },
        "id": "RaXGvYfntn4J",
        "outputId": "29b8ab7a-1c00-4c5d-9742-b6829dcad053"
      },
      "id": "RaXGvYfntn4J",
      "execution_count": 19,
      "outputs": [
        {
          "output_type": "execute_result",
          "data": {
            "text/plain": [
              "torch.Size([5, 27])"
            ]
          },
          "metadata": {},
          "execution_count": 19
        }
      ]
    },
    {
      "cell_type": "code",
      "source": [
        "W = torch.randn((27, 27))  # (no. of inputs to the layer, no. of outputs from layer)\n",
        "(x_enc @ W).shape # for each of the input example, we have an output from all 27 units of layer"
      ],
      "metadata": {
        "colab": {
          "base_uri": "https://localhost:8080/"
        },
        "id": "cx0s9ga0uMlZ",
        "outputId": "33bc7420-1032-43dc-8ee4-419de00d59a2"
      },
      "id": "cx0s9ga0uMlZ",
      "execution_count": 20,
      "outputs": [
        {
          "output_type": "execute_result",
          "data": {
            "text/plain": [
              "torch.Size([5, 27])"
            ]
          },
          "metadata": {},
          "execution_count": 20
        }
      ]
    },
    {
      "cell_type": "code",
      "source": [
        "logits = x_enc @ W  # log-counts  [1, 27] [27, 27]\n",
        "counts = torch.exp(logits)  # [1 27]\n",
        "\n",
        "probs = counts / counts.sum(1, keepdims=True)  # This represents the probabilities of\n",
        "# all the 2nd words after the given input word :)\n",
        "\n",
        "probs\n"
      ],
      "metadata": {
        "colab": {
          "base_uri": "https://localhost:8080/"
        },
        "id": "7WuOMj98uPG7",
        "outputId": "c39c6ba7-23ef-4a60-cb1d-498ac5414697"
      },
      "id": "7WuOMj98uPG7",
      "execution_count": 21,
      "outputs": [
        {
          "output_type": "execute_result",
          "data": {
            "text/plain": [
              "tensor([[0.0448, 0.0418, 0.0702, 0.0058, 0.0149, 0.0142, 0.0215, 0.0156, 0.0504,\n",
              "         0.0103, 0.0123, 0.0206, 0.0028, 0.0441, 0.0640, 0.0380, 0.0332, 0.0749,\n",
              "         0.0245, 0.0707, 0.0243, 0.0415, 0.0390, 0.0064, 0.0466, 0.1085, 0.0593],\n",
              "        [0.0031, 0.0212, 0.0220, 0.0197, 0.0142, 0.0177, 0.0269, 0.0431, 0.0281,\n",
              "         0.0096, 0.2395, 0.0134, 0.0350, 0.1011, 0.0139, 0.0460, 0.0087, 0.0049,\n",
              "         0.0086, 0.1619, 0.0673, 0.0066, 0.0265, 0.0109, 0.0104, 0.0261, 0.0137],\n",
              "        [0.0307, 0.1009, 0.0115, 0.0058, 0.0136, 0.0089, 0.0105, 0.0391, 0.0307,\n",
              "         0.0236, 0.0480, 0.1116, 0.0250, 0.0336, 0.0036, 0.0080, 0.3422, 0.0116,\n",
              "         0.0061, 0.0211, 0.0106, 0.0066, 0.0079, 0.0133, 0.0165, 0.0244, 0.0349],\n",
              "        [0.0307, 0.1009, 0.0115, 0.0058, 0.0136, 0.0089, 0.0105, 0.0391, 0.0307,\n",
              "         0.0236, 0.0480, 0.1116, 0.0250, 0.0336, 0.0036, 0.0080, 0.3422, 0.0116,\n",
              "         0.0061, 0.0211, 0.0106, 0.0066, 0.0079, 0.0133, 0.0165, 0.0244, 0.0349],\n",
              "        [0.0088, 0.0225, 0.0882, 0.2411, 0.0093, 0.0215, 0.0255, 0.0244, 0.0095,\n",
              "         0.0192, 0.0230, 0.0041, 0.0920, 0.0242, 0.0341, 0.0889, 0.0191, 0.0284,\n",
              "         0.0079, 0.0280, 0.0110, 0.0244, 0.0149, 0.0121, 0.0672, 0.0410, 0.0093]])"
            ]
          },
          "metadata": {},
          "execution_count": 21
        }
      ]
    },
    {
      "cell_type": "code",
      "source": [
        "# Probabilities of ouptut word for first example:\n",
        "probs[0]"
      ],
      "metadata": {
        "colab": {
          "base_uri": "https://localhost:8080/"
        },
        "id": "Isj1peBT13yq",
        "outputId": "99923d01-8977-48b6-a4fe-d205133028e3"
      },
      "id": "Isj1peBT13yq",
      "execution_count": 22,
      "outputs": [
        {
          "output_type": "execute_result",
          "data": {
            "text/plain": [
              "tensor([0.0448, 0.0418, 0.0702, 0.0058, 0.0149, 0.0142, 0.0215, 0.0156, 0.0504,\n",
              "        0.0103, 0.0123, 0.0206, 0.0028, 0.0441, 0.0640, 0.0380, 0.0332, 0.0749,\n",
              "        0.0245, 0.0707, 0.0243, 0.0415, 0.0390, 0.0064, 0.0466, 0.1085, 0.0593])"
            ]
          },
          "metadata": {},
          "execution_count": 22
        }
      ]
    },
    {
      "cell_type": "code",
      "source": [
        "print(\"probability assigned to correct label of first input is: \")\n",
        "probs[0, ys[0].item()].item()"
      ],
      "metadata": {
        "colab": {
          "base_uri": "https://localhost:8080/"
        },
        "id": "t-cV2DeY2EP3",
        "outputId": "6b374965-04a6-4fb5-b761-46b3b25b0a11"
      },
      "id": "t-cV2DeY2EP3",
      "execution_count": 23,
      "outputs": [
        {
          "output_type": "stream",
          "name": "stdout",
          "text": [
            "probability assigned to correct label of first input is: \n"
          ]
        },
        {
          "output_type": "execute_result",
          "data": {
            "text/plain": [
              "0.014162282459437847"
            ]
          },
          "metadata": {},
          "execution_count": 23
        }
      ]
    },
    {
      "cell_type": "markdown",
      "source": [
        "### Creating inputs, and corresponding labels, doing forward pass, computing loss, and COMPUTING BACKPASS AS WELL: Not the baby example"
      ],
      "metadata": {
        "id": "0GY5E8Jt3Vv6"
      },
      "id": "0GY5E8Jt3Vv6"
    },
    {
      "cell_type": "code",
      "source": [
        "xs, ys = [], []\n",
        "\n",
        "for word in words:\n",
        "  word = '.' + word + '.'\n",
        "  for ch1, ch2 in zip(word, word[1:]):\n",
        "    idx1 = stoi[ch1]\n",
        "    idx2 = stoi[ch2]\n",
        "    xs.append(idx1)\n",
        "    ys.append(idx2)"
      ],
      "metadata": {
        "id": "yUW3KR7T2l35"
      },
      "id": "yUW3KR7T2l35",
      "execution_count": 24,
      "outputs": []
    },
    {
      "cell_type": "code",
      "source": [
        "# initializations\n",
        "xs = torch.tensor(xs)\n",
        "ys = torch.tensor(ys)\n",
        "\n",
        "import torch.nn.functional as F\n",
        "x_enc = F.one_hot(xs, num_classes=27).float()\n",
        "\n",
        "W = torch.randn((27, 27), requires_grad=True).float()"
      ],
      "metadata": {
        "id": "k_zMp9We4BtP"
      },
      "id": "k_zMp9We4BtP",
      "execution_count": 25,
      "outputs": []
    },
    {
      "cell_type": "code",
      "source": [
        "\n",
        "\n",
        "\n",
        "# Forward pass\n",
        "logits = x_enc @ W\n",
        "probs = torch.softmax(logits, dim=1)\n",
        "\n",
        "# loss\n",
        "loss = -torch.log(probs[torch.arange(len(xs)), ys]).mean()\n",
        "print(loss)"
      ],
      "metadata": {
        "colab": {
          "base_uri": "https://localhost:8080/"
        },
        "id": "QyWfOR9a4e4_",
        "outputId": "de5291d4-087f-4be6-da21-76fc80eb1fd2"
      },
      "id": "QyWfOR9a4e4_",
      "execution_count": 26,
      "outputs": [
        {
          "output_type": "stream",
          "name": "stdout",
          "text": [
            "tensor(3.8897, grad_fn=<NegBackward0>)\n"
          ]
        }
      ]
    },
    {
      "cell_type": "code",
      "source": [
        "# backward pass\n",
        "W.grad = None\n",
        "loss.backward()\n",
        "\n",
        "W.data += -0.1 * W.grad"
      ],
      "metadata": {
        "id": "T3pVIJfa5agB"
      },
      "id": "T3pVIJfa5agB",
      "execution_count": 27,
      "outputs": []
    },
    {
      "cell_type": "markdown",
      "source": [
        "### writing respectful nn implementation of bigram model, with custom training loop"
      ],
      "metadata": {
        "id": "axFiYIE57hx-"
      },
      "id": "axFiYIE57hx-"
    },
    {
      "cell_type": "code",
      "source": [
        "xs, ys = [], []\n",
        "\n",
        "for word in words:\n",
        "  word = '.' + word + '.'\n",
        "  for ch1, ch2 in zip(word, word[1:]):\n",
        "    idx1 = stoi[ch1]\n",
        "    idx2 = stoi[ch2]\n",
        "    xs.append(idx1)\n",
        "    ys.append(idx2)"
      ],
      "metadata": {
        "id": "Crqr1X5t60k4"
      },
      "id": "Crqr1X5t60k4",
      "execution_count": 28,
      "outputs": []
    },
    {
      "cell_type": "code",
      "source": [
        "# initializations\n",
        "xs = torch.tensor(xs)\n",
        "ys = torch.tensor(ys)\n",
        "\n",
        "import torch.nn.functional as F\n",
        "x_enc = F.one_hot(xs, num_classes=27).float()\n",
        "\n",
        "W = torch.randn((27, 27), requires_grad=True)"
      ],
      "metadata": {
        "id": "nnGZtRBC7rIw"
      },
      "id": "nnGZtRBC7rIw",
      "execution_count": 29,
      "outputs": []
    },
    {
      "cell_type": "code",
      "source": [
        "# gradient descent\n",
        "for k in range(100):\n",
        "  # forward pass\n",
        "  logits = x_enc @ W\n",
        "  probs = torch.softmax(logits, dim=1)\n",
        "\n",
        "  # Loss\n",
        "  loss = -torch.log(probs[torch.arange(len(xs)), ys]).mean()\n",
        "  print(loss.item())\n",
        "\n",
        "  # backward pass\n",
        "  W.grad = None\n",
        "  loss.backward()\n",
        "\n",
        "  # update\n",
        "  W.data += -75 * W.grad"
      ],
      "metadata": {
        "colab": {
          "base_uri": "https://localhost:8080/"
        },
        "id": "0INx6dK77_L5",
        "outputId": "6447ec96-bf59-4a34-da7e-ff957e92e62f"
      },
      "id": "0INx6dK77_L5",
      "execution_count": 33,
      "outputs": [
        {
          "output_type": "stream",
          "name": "stdout",
          "text": [
            "2.507493734359741\n",
            "2.4657723903656006\n",
            "2.459831953048706\n",
            "2.4592928886413574\n",
            "2.459101915359497\n",
            "2.459019184112549\n",
            "2.4589755535125732\n",
            "2.458940029144287\n",
            "2.4589178562164307\n",
            "2.4588887691497803\n",
            "2.4588711261749268\n",
            "2.458843469619751\n",
            "2.458827257156372\n",
            "2.4588005542755127\n",
            "2.458785057067871\n",
            "2.458758592605591\n",
            "2.458744525909424\n",
            "2.4587178230285645\n",
            "2.458704948425293\n",
            "2.4586782455444336\n",
            "2.4586665630340576\n",
            "2.4586398601531982\n",
            "2.4586293697357178\n",
            "2.4586026668548584\n",
            "2.4585928916931152\n",
            "2.458566665649414\n",
            "2.4585578441619873\n",
            "2.458530902862549\n",
            "2.4585235118865967\n",
            "2.4584968090057373\n",
            "2.4584903717041016\n",
            "2.458462953567505\n",
            "2.4584577083587646\n",
            "2.458430767059326\n",
            "2.4584269523620605\n",
            "2.4583990573883057\n",
            "2.4583961963653564\n",
            "2.4583683013916016\n",
            "2.458366870880127\n",
            "2.4583380222320557\n",
            "2.4583377838134766\n",
            "2.4583089351654053\n",
            "2.4583096504211426\n",
            "2.458280563354492\n",
            "2.458282232284546\n",
            "2.4582526683807373\n",
            "2.4582560062408447\n",
            "2.458225727081299\n",
            "2.458230495452881\n",
            "2.4581992626190186\n",
            "2.458205223083496\n",
            "2.4581735134124756\n",
            "2.4581806659698486\n",
            "2.45814847946167\n",
            "2.4581568241119385\n",
            "2.4581239223480225\n",
            "2.4581334590911865\n",
            "2.458099842071533\n",
            "2.458110809326172\n",
            "2.458076238632202\n",
            "2.4580883979797363\n",
            "2.45805287361145\n",
            "2.458066940307617\n",
            "2.4580302238464355\n",
            "2.458045244216919\n",
            "2.458008289337158\n",
            "2.458024501800537\n",
            "2.457986354827881\n",
            "2.4580037593841553\n",
            "2.4579648971557617\n",
            "2.4579834938049316\n",
            "2.457943916320801\n",
            "2.457963705062866\n",
            "2.45792293548584\n",
            "2.45794415473938\n",
            "2.457902431488037\n",
            "2.457925319671631\n",
            "2.4578821659088135\n",
            "2.4579057693481445\n",
            "2.457862138748169\n",
            "2.4578869342803955\n",
            "2.4578425884246826\n",
            "2.4578685760498047\n",
            "2.4578230381011963\n",
            "2.457850217819214\n",
            "2.457803964614868\n",
            "2.457832098007202\n",
            "2.457784414291382\n",
            "2.4578137397766113\n",
            "2.457765579223633\n",
            "2.457796096801758\n",
            "2.457746744155884\n",
            "2.457777976989746\n",
            "2.4577279090881348\n",
            "2.4577600955963135\n",
            "2.4577090740203857\n",
            "2.457742691040039\n",
            "2.457690954208374\n",
            "2.4577250480651855\n",
            "2.457672595977783\n"
          ]
        }
      ]
    },
    {
      "cell_type": "code",
      "source": [
        "# sampling\n",
        "for i in range(5):\n",
        "  out = []\n",
        "\n",
        "  ix = 0\n",
        "  while True:\n",
        "    ix = F.one_hot(torch.tensor([ix]), num_classes=27).float()\n",
        "    logits = ix @ W\n",
        "    counts = torch.exp(logits)\n",
        "    probs = counts / counts.sum(dim=1, keepdims=True)\n",
        "\n",
        "    ix = torch.multinomial(probs, num_samples=1, replacement=True).item()\n",
        "    out.append(itos[ix])\n",
        "\n",
        "    if ix == 0:\n",
        "      break\n",
        "\n",
        "  print(''.join(out))"
      ],
      "metadata": {
        "colab": {
          "base_uri": "https://localhost:8080/"
        },
        "id": "D83vXTbZUnf8",
        "outputId": "8ed3fd84-f0eb-45e5-d357-8a16463c3105"
      },
      "id": "D83vXTbZUnf8",
      "execution_count": 45,
      "outputs": [
        {
          "output_type": "stream",
          "name": "stdout",
          "text": [
            "zy.\n",
            "eyuitiah.\n",
            "chrimiayaria.\n",
            "nnniaa.\n",
            "mandan.\n"
          ]
        }
      ]
    }
  ],
  "metadata": {
    "kernelspec": {
      "display_name": "Python 3 (ipykernel)",
      "language": "python",
      "name": "python3"
    },
    "language_info": {
      "codemirror_mode": {
        "name": "ipython",
        "version": 3
      },
      "file_extension": ".py",
      "mimetype": "text/x-python",
      "name": "python",
      "nbconvert_exporter": "python",
      "pygments_lexer": "ipython3",
      "version": "3.9.7"
    },
    "colab": {
      "provenance": []
    }
  },
  "nbformat": 4,
  "nbformat_minor": 5
}